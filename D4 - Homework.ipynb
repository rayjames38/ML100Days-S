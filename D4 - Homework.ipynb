{
 "cells": [
  {
   "cell_type": "code",
   "execution_count": 22,
   "metadata": {},
   "outputs": [],
   "source": [
    "import numpy as np\n",
    "english_score = np.array([55,89,76,65,48,70])\n",
    "math_score = np.array([60,85,60,68,55,60])\n",
    "chinese_score = np.array([65,30,82,72,66,77])\n"
   ]
  },
  {
   "cell_type": "code",
   "execution_count": 21,
   "metadata": {},
   "outputs": [
    {
     "name": "stdout",
     "output_type": "stream",
     "text": [
      "有3位學生英文比數學高\n"
     ]
    }
   ],
   "source": [
    "count = 0\n",
    "for i in (np.greater(english_score, math_score)) :\n",
    "    if i == 1 :\n",
    "        count += 1\n",
    "print(\"有\"+str(count)+\"位學生英文比數學高\")"
   ]
  },
  {
   "cell_type": "code",
   "execution_count": 24,
   "metadata": {},
   "outputs": [
    {
     "name": "stdout",
     "output_type": "stream",
     "text": [
      "非所有學生最高分皆是國文\n"
     ]
    }
   ],
   "source": [
    "if np.all(np.logical_and(chinese_score>math_score, chinese_score >english_score)) == 1 :\n",
    "    print(\"所有學生最高分皆是國文\")\n",
    "else :\n",
    "    print(\"非所有學生最高分皆是國文\")\n"
   ]
  },
  {
   "cell_type": "code",
   "execution_count": 23,
   "metadata": {},
   "outputs": [
    {
     "name": "stdout",
     "output_type": "stream",
     "text": [
      "[ True False  True  True  True  True]\n",
      "True\n"
     ]
    }
   ],
   "source": [
    "ch_greater_ma = np.greater(chinese_score,math_score)\n",
    "ch_greater_en = np.greater(chinese_score,english_score)\n",
    "print(np.logical_and(ch_greater_ma,ch_greater_en))\n",
    "print(np.logical_and(ch_greater_ma,ch_greater_en).any())"
   ]
  },
  {
   "cell_type": "code",
   "execution_count": null,
   "metadata": {},
   "outputs": [],
   "source": []
  }
 ],
 "metadata": {
  "kernelspec": {
   "display_name": "Python 3",
   "language": "python",
   "name": "python3"
  },
  "language_info": {
   "codemirror_mode": {
    "name": "ipython",
    "version": 3
   },
   "file_extension": ".py",
   "mimetype": "text/x-python",
   "name": "python",
   "nbconvert_exporter": "python",
   "pygments_lexer": "ipython3",
   "version": "3.8.5"
  }
 },
 "nbformat": 4,
 "nbformat_minor": 4
}
