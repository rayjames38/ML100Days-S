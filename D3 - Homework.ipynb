{
 "cells": [
  {
   "cell_type": "code",
   "execution_count": 1,
   "metadata": {},
   "outputs": [],
   "source": [
    "import numpy as np"
   ]
  },
  {
   "cell_type": "code",
   "execution_count": 2,
   "metadata": {},
   "outputs": [
    {
     "name": "stdout",
     "output_type": "stream",
     "text": [
      "60.0\n"
     ]
    }
   ],
   "source": [
    "def getGdB(v1) : \n",
    "    v0 = 20\n",
    "    GdB = 20 * (np.log10( v1 / v0))\n",
    "    return GdB\n",
    "\n",
    "print(getGdB(20000))\n"
   ]
  },
  {
   "cell_type": "code",
   "execution_count": 12,
   "metadata": {},
   "outputs": [
    {
     "name": "stdout",
     "output_type": "stream",
     "text": [
      "0.09999999999999999\n",
      "10.000000000000002\n",
      "10.000000000000002\n"
     ]
    }
   ],
   "source": [
    "def getuPa(GdB) :\n",
    "    v0 = 20\n",
    "    Vgdb =10 ** (GdB/20) * v0 \n",
    "    return Vgdb\n",
    "\n",
    "print(getuPa(30)/getuPa(50))\n",
    "print(getuPa(50)/getuPa(30))\n"
   ]
  },
  {
   "cell_type": "code",
   "execution_count": null,
   "metadata": {},
   "outputs": [],
   "source": []
  }
 ],
 "metadata": {
  "kernelspec": {
   "display_name": "Python 3",
   "language": "python",
   "name": "python3"
  },
  "language_info": {
   "codemirror_mode": {
    "name": "ipython",
    "version": 3
   },
   "file_extension": ".py",
   "mimetype": "text/x-python",
   "name": "python",
   "nbconvert_exporter": "python",
   "pygments_lexer": "ipython3",
   "version": "3.8.5"
  }
 },
 "nbformat": 4,
 "nbformat_minor": 4
}
