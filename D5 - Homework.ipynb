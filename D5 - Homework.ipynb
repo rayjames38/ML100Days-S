{
 "cells": [
  {
   "cell_type": "code",
   "execution_count": 6,
   "metadata": {},
   "outputs": [],
   "source": [
    "import numpy as np\n",
    "english_score = np.array([55,89,76,65,48,70])\n",
    "math_score = np.array([60,85,60,68,np.nan,60])\n",
    "chinese_score = np.array([65,90,82,72,66,77])"
   ]
  },
  {
   "cell_type": "code",
   "execution_count": 7,
   "metadata": {},
   "outputs": [
    {
     "name": "stdout",
     "output_type": "stream",
     "text": [
      "[array([55, 89, 76, 65, 48, 70]), array([60., 85., 60., 68., nan, 60.]), array([65, 90, 82, 72, 66, 77])]\n"
     ]
    }
   ],
   "source": [
    "#1. 請計算各科成績平均、最大值、最小值、標準差，其中數學缺一筆資料可忽略\n",
    "group = [english_score, math_score, chinese_score]\n",
    "print(group)"
   ]
  },
  {
   "cell_type": "code",
   "execution_count": 8,
   "metadata": {},
   "outputs": [
    {
     "name": "stdout",
     "output_type": "stream",
     "text": [
      "67.16666666666667 89 48 180.47222222222226\n",
      "66.6 85.0 60.0 94.24000000000002\n",
      "75.33333333333333 90 65 77.88888888888889\n"
     ]
    }
   ],
   "source": [
    "for i in group :\n",
    "    print(np.nanmean(i), np.nanmax(i), np.nanmin(i), np.nanvar(i) )"
   ]
  },
  {
   "cell_type": "code",
   "execution_count": 11,
   "metadata": {},
   "outputs": [
    {
     "name": "stdout",
     "output_type": "stream",
     "text": [
      "[60. 85. 60. 68. 55. 60.] (64.66666666666667, 85.0, 55.0, 97.22222222222223)\n"
     ]
    }
   ],
   "source": [
    "#2. 第五位同學補考數學後成績為55，請計算補考後數學成績平均、最大值、最小值、標準差?\n",
    "def satSet (i) :\n",
    "    return np.nanmean(i), np.nanmax(i), np.nanmin(i), np.nanvar(i)\n",
    "\n",
    "for u in range(len(math_score)) :\n",
    "    if np.isnan(math_score[u]) == 1 :\n",
    "        math_score[u] =55\n",
    "\n",
    "print(math_score,satSet(math_score))"
   ]
  },
  {
   "cell_type": "code",
   "execution_count": 17,
   "metadata": {},
   "outputs": [
    {
     "name": "stdout",
     "output_type": "stream",
     "text": [
      "E\n"
     ]
    }
   ],
   "source": [
    "#3. 用補考後資料找出與國文成績相關係數最高的學科?\n",
    "a = np.correlate(chinese_score, math_score)\n",
    "b = np.correlate(chinese_score, english_score)\n",
    "\n",
    "if a > b :\n",
    "    print(\"M\")\n",
    "else :\n",
    "    print(\"E\")\n",
    "        "
   ]
  },
  {
   "cell_type": "code",
   "execution_count": 28,
   "metadata": {},
   "outputs": [
    {
     "data": {
      "text/plain": [
       "1.0"
      ]
     },
     "execution_count": 28,
     "metadata": {},
     "output_type": "execute_result"
    }
   ],
   "source": [
    "np.correlate([1, 2, 3], [0, 1])\n",
    "np.corrcoef(chinese_score)"
   ]
  },
  {
   "cell_type": "code",
   "execution_count": null,
   "metadata": {},
   "outputs": [],
   "source": []
  }
 ],
 "metadata": {
  "kernelspec": {
   "display_name": "Python 3",
   "language": "python",
   "name": "python3"
  },
  "language_info": {
   "codemirror_mode": {
    "name": "ipython",
    "version": 3
   },
   "file_extension": ".py",
   "mimetype": "text/x-python",
   "name": "python",
   "nbconvert_exporter": "python",
   "pygments_lexer": "ipython3",
   "version": "3.8.5"
  }
 },
 "nbformat": 4,
 "nbformat_minor": 4
}
